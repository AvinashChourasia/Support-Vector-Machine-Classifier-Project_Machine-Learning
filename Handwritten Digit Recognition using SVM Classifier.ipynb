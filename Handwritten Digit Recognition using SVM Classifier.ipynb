{
 "cells": [
  {
   "cell_type": "markdown",
   "id": "e6dd45ee",
   "metadata": {},
   "source": [
    "# Handwritten Digit Recognition using SVM Classifier"
   ]
  },
  {
   "cell_type": "code",
   "execution_count": 1,
   "id": "3ef710e5",
   "metadata": {},
   "outputs": [],
   "source": [
    "import numpy as np\n",
    "from sklearn.datasets import load_digits"
   ]
  },
  {
   "cell_type": "code",
   "execution_count": 2,
   "id": "b4be6044",
   "metadata": {},
   "outputs": [],
   "source": [
    "dataset = load_digits()"
   ]
  },
  {
   "cell_type": "code",
   "execution_count": 3,
   "id": "0cbbc0eb",
   "metadata": {},
   "outputs": [
    {
     "name": "stdout",
     "output_type": "stream",
     "text": [
      "[[ 0.  0.  5. ...  0.  0.  0.]\n",
      " [ 0.  0.  0. ... 10.  0.  0.]\n",
      " [ 0.  0.  0. ... 16.  9.  0.]\n",
      " ...\n",
      " [ 0.  0.  1. ...  6.  0.  0.]\n",
      " [ 0.  0.  2. ... 12.  0.  0.]\n",
      " [ 0.  0. 10. ... 12.  1.  0.]]\n",
      "[0 1 2 ... 8 9 8]\n",
      "(1797, 64)\n",
      "(1797, 8, 8)\n",
      "1797\n"
     ]
    }
   ],
   "source": [
    "print(dataset.data)\n",
    "print(dataset.target)\n",
    "\n",
    "print(dataset.data.shape)\n",
    "print(dataset.images.shape)\n",
    "\n",
    "dataimageLength = len(dataset.images)\n",
    "print(dataimageLength)"
   ]
  },
  {
   "cell_type": "markdown",
   "id": "c4ef534e",
   "metadata": {},
   "source": [
    "# *Visualize the Dataset*"
   ]
  },
  {
   "cell_type": "code",
   "execution_count": 5,
   "id": "f75cddb7",
   "metadata": {},
   "outputs": [
    {
     "data": {
      "text/plain": [
       "<Figure size 432x288 with 0 Axes>"
      ]
     },
     "metadata": {},
     "output_type": "display_data"
    },
    {
     "data": {
      "image/png": "[encoded data removed]",
      "text/plain": [
       "<Figure size 288x288 with 1 Axes>"
      ]
     },
     "metadata": {
      "needs_background": "light"
     },
     "output_type": "display_data"
    },
    {
     "data": {
      "text/plain": [
       "array([[ 0.,  0., 11., 12.,  0.,  0.,  0.,  0.],\n",
       "       [ 0.,  2., 16., 16., 16., 13.,  0.,  0.],\n",
       "       [ 0.,  3., 16., 12., 10., 14.,  0.,  0.],\n",
       "       [ 0.,  1., 16.,  1., 12., 15.,  0.,  0.],\n",
       "       [ 0.,  0., 13., 16.,  9., 15.,  2.,  0.],\n",
       "       [ 0.,  0.,  0.,  3.,  0.,  9., 11.,  0.],\n",
       "       [ 0.,  0.,  0.,  0.,  9., 15.,  4.,  0.],\n",
       "       [ 0.,  0.,  9., 12., 13.,  3.,  0.,  0.]])"
      ]
     },
     "execution_count": 5,
     "metadata": {},
     "output_type": "execute_result"
    }
   ],
   "source": [
    "n=9 #No. of Sample out of Samples total 1797\n",
    "\n",
    "import matplotlib.pyplot as plt\n",
    "plt.gray()\n",
    "plt.matshow(dataset.images[n])\n",
    "plt.show()\n",
    "\n",
    "dataset.images[n]"
   ]
  },
  {
   "cell_type": "markdown",
   "id": "d4e97c62",
   "metadata": {},
   "source": [
    "# *Segregate Dataset into X(Input/IndependentVariable) & Y(Output/DependentVariable)*\n",
    "\n",
    "### *Input - Pixel | Output - Class*"
   ]
  },
  {
   "cell_type": "code",
   "execution_count": 6,
   "id": "f23a94bc",
   "metadata": {},
   "outputs": [
    {
     "data": {
      "text/plain": [
       "array([[ 0.,  0.,  5., ...,  0.,  0.,  0.],\n",
       "       [ 0.,  0.,  0., ..., 10.,  0.,  0.],\n",
       "       [ 0.,  0.,  0., ..., 16.,  9.,  0.],\n",
       "       ...,\n",
       "       [ 0.,  0.,  1., ...,  6.,  0.,  0.],\n",
       "       [ 0.,  0.,  2., ..., 12.,  0.,  0.],\n",
       "       [ 0.,  0., 10., ..., 12.,  1.,  0.]])"
      ]
     },
     "execution_count": 6,
     "metadata": {},
     "output_type": "execute_result"
    }
   ],
   "source": [
    "X = dataset.images.reshape((dataimageLength,-1))\n",
    "X"
   ]
  },
  {
   "cell_type": "code",
   "execution_count": 7,
   "id": "92733f32",
   "metadata": {},
   "outputs": [
    {
     "data": {
      "text/plain": [
       "array([0, 1, 2, ..., 8, 9, 8])"
      ]
     },
     "execution_count": 7,
     "metadata": {},
     "output_type": "execute_result"
    }
   ],
   "source": [
    "Y = dataset.target\n",
    "Y"
   ]
  },
  {
   "cell_type": "markdown",
   "id": "af2513b7",
   "metadata": {},
   "source": [
    "# *Splitting Dataset into Train & Test*"
   ]
  },
  {
   "cell_type": "code",
   "execution_count": 8,
   "id": "0b01db35",
   "metadata": {},
   "outputs": [
    {
     "name": "stdout",
     "output_type": "stream",
     "text": [
      "(1347, 64)\n",
      "(450, 64)\n"
     ]
    }
   ],
   "source": [
    "from sklearn.model_selection import train_test_split\n",
    "X_train, X_test, y_train, y_test = train_test_split(X, Y, test_size = 0.25, random_state = 0)\n",
    "print(X_train.shape)\n",
    "print(X_test.shape)"
   ]
  },
  {
   "cell_type": "markdown",
   "id": "496a6157",
   "metadata": {},
   "source": [
    "# *Training*"
   ]
  },
  {
   "cell_type": "code",
   "execution_count": 9,
   "id": "11197ccf",
   "metadata": {},
   "outputs": [
    {
     "data": {
      "text/plain": [
       "SVC(kernel='linear')"
      ]
     },
     "execution_count": 9,
     "metadata": {},
     "output_type": "execute_result"
    }
   ],
   "source": [
    "from sklearn import svm\n",
    "model = svm.SVC(kernel='linear')\n",
    "model.fit(X_train,y_train)"
   ]
  },
  {
   "cell_type": "markdown",
   "id": "c9efebba",
   "metadata": {},
   "source": [
    "# *Predicting, what the digit is from Test Data*"
   ]
  },
  {
   "cell_type": "code",
   "execution_count": 10,
   "id": "2f55ed8f",
   "metadata": {},
   "outputs": [
    {
     "name": "stdout",
     "output_type": "stream",
     "text": [
      "[3]\n",
      "\n",
      "\n"
     ]
    },
    {
     "data": {
      "image/png": "[encoded data removed]",
      "text/plain": [
       "<Figure size 432x288 with 1 Axes>"
      ]
     },
     "metadata": {
      "needs_background": "light"
     },
     "output_type": "display_data"
    }
   ],
   "source": [
    "n=13\n",
    "result = model.predict(dataset.images[n].reshape((1,-1)))\n",
    "plt.imshow(dataset.images[n], cmap=plt.cm.gray_r, interpolation='nearest')     \n",
    "print(result)\n",
    "print(\"\\n\")\n",
    "plt.axis('off')\n",
    "plt.title('%i' %result)\n",
    "plt.show()"
   ]
  },
  {
   "cell_type": "markdown",
   "id": "da016af5",
   "metadata": {},
   "source": [
    "# *Prediction for Test Data*"
   ]
  },
  {
   "cell_type": "code",
   "execution_count": 11,
   "id": "ff088711",
   "metadata": {},
   "outputs": [
    {
     "name": "stdout",
     "output_type": "stream",
     "text": [
      "[[2 2]\n",
      " [8 8]\n",
      " [2 2]\n",
      " [6 6]\n",
      " [6 6]\n",
      " [7 7]\n",
      " [1 1]\n",
      " [9 9]\n",
      " [8 8]\n",
      " [5 5]\n",
      " [2 2]\n",
      " [8 8]\n",
      " [6 6]\n",
      " [6 6]\n",
      " [6 6]\n",
      " [6 6]\n",
      " [1 1]\n",
      " [0 0]\n",
      " [5 5]\n",
      " [8 8]\n",
      " [8 8]\n",
      " [7 7]\n",
      " [8 8]\n",
      " [4 4]\n",
      " [7 7]\n",
      " [5 5]\n",
      " [4 4]\n",
      " [9 9]\n",
      " [2 2]\n",
      " [9 9]\n",
      " [4 4]\n",
      " [7 7]\n",
      " [6 6]\n",
      " [8 8]\n",
      " [9 9]\n",
      " [4 4]\n",
      " [3 3]\n",
      " [1 1]\n",
      " [0 0]\n",
      " [1 1]\n",
      " [8 8]\n",
      " [6 6]\n",
      " [7 7]\n",
      " [7 7]\n",
      " [1 1]\n",
      " [0 0]\n",
      " [7 7]\n",
      " [6 6]\n",
      " [2 2]\n",
      " [1 1]\n",
      " [9 9]\n",
      " [6 6]\n",
      " [7 7]\n",
      " [9 9]\n",
      " [0 0]\n",
      " [0 0]\n",
      " [5 5]\n",
      " [1 1]\n",
      " [6 6]\n",
      " [3 3]\n",
      " [0 0]\n",
      " [2 2]\n",
      " [3 3]\n",
      " [4 4]\n",
      " [1 1]\n",
      " [9 9]\n",
      " [2 2]\n",
      " [6 6]\n",
      " [9 9]\n",
      " [1 1]\n",
      " [8 8]\n",
      " [3 3]\n",
      " [5 5]\n",
      " [1 1]\n",
      " [2 2]\n",
      " [8 8]\n",
      " [2 2]\n",
      " [2 2]\n",
      " [9 9]\n",
      " [7 7]\n",
      " [2 2]\n",
      " [3 3]\n",
      " [6 6]\n",
      " [0 0]\n",
      " [5 5]\n",
      " [3 3]\n",
      " [7 7]\n",
      " [5 5]\n",
      " [1 1]\n",
      " [2 2]\n",
      " [9 9]\n",
      " [9 9]\n",
      " [3 3]\n",
      " [1 1]\n",
      " [7 7]\n",
      " [7 7]\n",
      " [4 4]\n",
      " [8 8]\n",
      " [5 5]\n",
      " [8 8]\n",
      " [5 5]\n",
      " [5 5]\n",
      " [2 2]\n",
      " [5 5]\n",
      " [9 9]\n",
      " [0 0]\n",
      " [7 7]\n",
      " [1 1]\n",
      " [4 4]\n",
      " [4 7]\n",
      " [3 3]\n",
      " [4 4]\n",
      " [8 8]\n",
      " [9 9]\n",
      " [7 7]\n",
      " [9 9]\n",
      " [8 8]\n",
      " [2 2]\n",
      " [1 6]\n",
      " [5 5]\n",
      " [2 2]\n",
      " [5 5]\n",
      " [8 8]\n",
      " [4 4]\n",
      " [1 8]\n",
      " [7 7]\n",
      " [0 0]\n",
      " [6 6]\n",
      " [1 1]\n",
      " [5 5]\n",
      " [5 9]\n",
      " [9 9]\n",
      " [9 9]\n",
      " [5 5]\n",
      " [9 9]\n",
      " [9 9]\n",
      " [5 5]\n",
      " [7 7]\n",
      " [5 5]\n",
      " [6 6]\n",
      " [2 2]\n",
      " [8 8]\n",
      " [6 6]\n",
      " [9 9]\n",
      " [6 6]\n",
      " [1 1]\n",
      " [5 5]\n",
      " [1 1]\n",
      " [5 5]\n",
      " [9 9]\n",
      " [9 9]\n",
      " [1 1]\n",
      " [5 5]\n",
      " [3 3]\n",
      " [6 6]\n",
      " [1 1]\n",
      " [8 8]\n",
      " [9 9]\n",
      " [8 8]\n",
      " [7 7]\n",
      " [6 6]\n",
      " [7 7]\n",
      " [6 6]\n",
      " [5 5]\n",
      " [6 6]\n",
      " [0 0]\n",
      " [8 8]\n",
      " [8 8]\n",
      " [9 9]\n",
      " [8 8]\n",
      " [6 6]\n",
      " [1 1]\n",
      " [0 0]\n",
      " [4 4]\n",
      " [1 1]\n",
      " [6 6]\n",
      " [3 3]\n",
      " [8 8]\n",
      " [6 6]\n",
      " [7 7]\n",
      " [4 4]\n",
      " [9 5]\n",
      " [6 6]\n",
      " [3 3]\n",
      " [0 0]\n",
      " [3 3]\n",
      " [3 3]\n",
      " [3 3]\n",
      " [0 0]\n",
      " [7 7]\n",
      " [7 7]\n",
      " [5 5]\n",
      " [7 7]\n",
      " [8 8]\n",
      " [0 0]\n",
      " [7 7]\n",
      " [1 8]\n",
      " [9 9]\n",
      " [6 6]\n",
      " [4 4]\n",
      " [5 5]\n",
      " [0 0]\n",
      " [1 1]\n",
      " [4 4]\n",
      " [6 6]\n",
      " [4 4]\n",
      " [3 3]\n",
      " [3 3]\n",
      " [0 0]\n",
      " [9 9]\n",
      " [5 5]\n",
      " [3 9]\n",
      " [2 2]\n",
      " [1 1]\n",
      " [4 4]\n",
      " [2 2]\n",
      " [1 1]\n",
      " [6 6]\n",
      " [8 8]\n",
      " [9 9]\n",
      " [2 2]\n",
      " [4 4]\n",
      " [9 9]\n",
      " [3 3]\n",
      " [7 7]\n",
      " [6 6]\n",
      " [2 2]\n",
      " [3 3]\n",
      " [3 3]\n",
      " [1 1]\n",
      " [6 6]\n",
      " [9 9]\n",
      " [3 3]\n",
      " [6 6]\n",
      " [3 3]\n",
      " [2 2]\n",
      " [2 2]\n",
      " [0 0]\n",
      " [7 7]\n",
      " [6 6]\n",
      " [1 1]\n",
      " [1 1]\n",
      " [9 9]\n",
      " [7 7]\n",
      " [2 2]\n",
      " [7 7]\n",
      " [8 8]\n",
      " [5 5]\n",
      " [5 5]\n",
      " [7 7]\n",
      " [5 5]\n",
      " [2 2]\n",
      " [3 3]\n",
      " [7 7]\n",
      " [2 2]\n",
      " [7 7]\n",
      " [5 5]\n",
      " [5 5]\n",
      " [7 7]\n",
      " [0 0]\n",
      " [9 9]\n",
      " [1 1]\n",
      " [6 6]\n",
      " [5 5]\n",
      " [9 9]\n",
      " [7 7]\n",
      " [4 4]\n",
      " [3 3]\n",
      " [8 8]\n",
      " [0 0]\n",
      " [3 3]\n",
      " [6 6]\n",
      " [4 4]\n",
      " [6 6]\n",
      " [3 3]\n",
      " [2 2]\n",
      " [6 6]\n",
      " [8 8]\n",
      " [8 8]\n",
      " [8 8]\n",
      " [4 4]\n",
      " [6 6]\n",
      " [7 7]\n",
      " [5 5]\n",
      " [2 2]\n",
      " [4 4]\n",
      " [5 5]\n",
      " [3 3]\n",
      " [2 2]\n",
      " [4 4]\n",
      " [6 6]\n",
      " [9 9]\n",
      " [4 4]\n",
      " [5 5]\n",
      " [4 4]\n",
      " [3 3]\n",
      " [4 4]\n",
      " [6 6]\n",
      " [2 2]\n",
      " [9 9]\n",
      " [0 0]\n",
      " [1 1]\n",
      " [7 7]\n",
      " [2 2]\n",
      " [0 0]\n",
      " [9 9]\n",
      " [6 6]\n",
      " [0 0]\n",
      " [4 4]\n",
      " [2 2]\n",
      " [0 0]\n",
      " [7 7]\n",
      " [9 9]\n",
      " [8 8]\n",
      " [5 5]\n",
      " [4 4]\n",
      " [8 8]\n",
      " [2 2]\n",
      " [8 8]\n",
      " [4 4]\n",
      " [3 3]\n",
      " [7 7]\n",
      " [2 2]\n",
      " [6 6]\n",
      " [9 9]\n",
      " [1 1]\n",
      " [5 5]\n",
      " [1 1]\n",
      " [0 0]\n",
      " [8 8]\n",
      " [2 2]\n",
      " [8 1]\n",
      " [9 9]\n",
      " [5 5]\n",
      " [6 6]\n",
      " [2 8]\n",
      " [2 2]\n",
      " [7 7]\n",
      " [2 2]\n",
      " [1 1]\n",
      " [5 5]\n",
      " [1 1]\n",
      " [6 6]\n",
      " [4 4]\n",
      " [5 5]\n",
      " [0 0]\n",
      " [9 9]\n",
      " [4 4]\n",
      " [1 1]\n",
      " [1 1]\n",
      " [7 7]\n",
      " [0 0]\n",
      " [8 8]\n",
      " [9 9]\n",
      " [0 0]\n",
      " [5 5]\n",
      " [4 4]\n",
      " [3 3]\n",
      " [8 8]\n",
      " [8 8]\n",
      " [6 6]\n",
      " [5 5]\n",
      " [3 3]\n",
      " [4 4]\n",
      " [4 4]\n",
      " [4 4]\n",
      " [8 8]\n",
      " [8 8]\n",
      " [7 7]\n",
      " [0 0]\n",
      " [9 9]\n",
      " [6 6]\n",
      " [3 3]\n",
      " [5 5]\n",
      " [2 2]\n",
      " [3 3]\n",
      " [0 0]\n",
      " [8 8]\n",
      " [8 3]\n",
      " [3 3]\n",
      " [1 1]\n",
      " [3 3]\n",
      " [3 3]\n",
      " [0 0]\n",
      " [0 0]\n",
      " [4 4]\n",
      " [6 6]\n",
      " [0 0]\n",
      " [7 7]\n",
      " [7 7]\n",
      " [6 6]\n",
      " [2 2]\n",
      " [0 0]\n",
      " [4 4]\n",
      " [4 4]\n",
      " [2 2]\n",
      " [3 3]\n",
      " [7 7]\n",
      " [1 8]\n",
      " [9 9]\n",
      " [8 8]\n",
      " [6 6]\n",
      " [8 8]\n",
      " [5 5]\n",
      " [6 6]\n",
      " [2 2]\n",
      " [2 2]\n",
      " [3 3]\n",
      " [1 1]\n",
      " [7 7]\n",
      " [7 7]\n",
      " [8 8]\n",
      " [0 0]\n",
      " [3 3]\n",
      " [3 3]\n",
      " [2 2]\n",
      " [1 1]\n",
      " [5 5]\n",
      " [5 5]\n",
      " [9 9]\n",
      " [1 1]\n",
      " [3 3]\n",
      " [7 7]\n",
      " [0 0]\n",
      " [0 0]\n",
      " [7 7]\n",
      " [0 0]\n",
      " [4 4]\n",
      " [5 5]\n",
      " [8 9]\n",
      " [9 3]\n",
      " [3 3]\n",
      " [4 4]\n",
      " [3 3]\n",
      " [1 1]\n",
      " [8 8]\n",
      " [9 9]\n",
      " [8 8]\n",
      " [3 3]\n",
      " [6 6]\n",
      " [2 2]\n",
      " [1 1]\n",
      " [6 6]\n",
      " [2 2]\n",
      " [1 1]\n",
      " [7 7]\n",
      " [5 5]\n",
      " [5 5]\n",
      " [1 1]\n",
      " [9 9]]\n"
     ]
    }
   ],
   "source": [
    "y_pred = model.predict(X_test)\n",
    "print(np.concatenate((y_pred.reshape(len(y_pred),1), y_test.reshape(len(y_test),1)),1))"
   ]
  },
  {
   "cell_type": "markdown",
   "id": "c60b3e48",
   "metadata": {},
   "source": [
    "# *Evaluate Model - Accuracy Score*"
   ]
  },
  {
   "cell_type": "code",
   "execution_count": 12,
   "id": "53783ba6",
   "metadata": {},
   "outputs": [
    {
     "name": "stdout",
     "output_type": "stream",
     "text": [
      "Accuracy of the Model: 97.11111111111111%\n"
     ]
    }
   ],
   "source": [
    "from sklearn.metrics import accuracy_score\n",
    "print(\"Accuracy of the Model: {0}%\".format(accuracy_score(y_test, y_pred)*100))"
   ]
  },
  {
   "cell_type": "markdown",
   "id": "db49140b",
   "metadata": {},
   "source": [
    "# *Play with the Different Method*"
   ]
  },
  {
   "cell_type": "code",
   "execution_count": 13,
   "id": "51f3c200",
   "metadata": {},
   "outputs": [
    {
     "name": "stdout",
     "output_type": "stream",
     "text": [
      "Accuracy of the Model 1: 97.11111111111111%\n",
      "Accuracy of the Model 2: 99.11111111111111%\n",
      "Accuracy of the Model 3: 99.55555555555556%\n",
      "Accuracy of the Model 4: 96.66666666666667%\n"
     ]
    }
   ],
   "source": [
    "from sklearn import svm\n",
    "model1 = svm.SVC(kernel='linear')\n",
    "model2 = svm.SVC(kernel='rbf')\n",
    "model3 = svm.SVC(gamma=0.001)\n",
    "model4 = svm.SVC(gamma=0.001,C=0.1)\n",
    "\n",
    "model1.fit(X_train,y_train)\n",
    "model2.fit(X_train,y_train)\n",
    "model3.fit(X_train,y_train)\n",
    "model4.fit(X_train,y_train)\n",
    "\n",
    "y_predModel1 = model1.predict(X_test)\n",
    "y_predModel2 = model2.predict(X_test)\n",
    "y_predModel3 = model3.predict(X_test)\n",
    "y_predModel4 = model4.predict(X_test)\n",
    "\n",
    "print(\"Accuracy of the Model 1: {0}%\".format(accuracy_score(y_test, y_predModel1)*100))\n",
    "print(\"Accuracy of the Model 2: {0}%\".format(accuracy_score(y_test, y_predModel2)*100))\n",
    "print(\"Accuracy of the Model 3: {0}%\".format(accuracy_score(y_test, y_predModel3)*100))\n",
    "print(\"Accuracy of the Model 4: {0}%\".format(accuracy_score(y_test, y_predModel4)*100))"
   ]
  },
  {
   "cell_type": "code",
   "execution_count": null,
   "id": "1f334392",
   "metadata": {},
   "outputs": [],
   "source": []
  },
  {
   "cell_type": "code",
   "execution_count": null,
   "id": "a1bb4641",
   "metadata": {},
   "outputs": [],
   "source": []
  }
 ],
 "metadata": {
  "kernelspec": {
   "display_name": "Python 3 (ipykernel)",
   "language": "python",
   "name": "python3"
  },
  "language_info": {
   "codemirror_mode": {
    "name": "ipython",
    "version": 3
   },
   "file_extension": ".py",
   "mimetype": "text/x-python",
   "name": "python",
   "nbconvert_exporter": "python",
   "pygments_lexer": "ipython3",
   "version": "3.9.7"
  }
 },
 "nbformat": 4,
 "nbformat_minor": 5
}
